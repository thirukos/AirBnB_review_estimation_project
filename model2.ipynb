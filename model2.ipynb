{
 "cells": [
  {
   "attachments": {},
   "cell_type": "markdown",
   "metadata": {},
   "source": [
    "DROPPING THIS APPROACH AS IT HAS LOT OF PARAMETERS TO TUNE"
   ]
  },
  {
   "cell_type": "code",
   "execution_count": 2,
   "metadata": {},
   "outputs": [
    {
     "name": "stdout",
     "output_type": "stream",
     "text": [
      "Collecting tensorflowNote: you may need to restart the kernel to use updated packages.\n",
      "\n",
      "  Downloading tensorflow-2.11.0-cp39-cp39-win_amd64.whl (1.9 kB)\n",
      "Collecting tensorflow-intel==2.11.0\n",
      "  Downloading tensorflow_intel-2.11.0-cp39-cp39-win_amd64.whl (266.3 MB)\n",
      "     -------------------------------------- 266.3/266.3 MB 5.0 MB/s eta 0:00:00\n",
      "Collecting opt-einsum>=2.3.2\n",
      "  Downloading opt_einsum-3.3.0-py3-none-any.whl (65 kB)\n",
      "     ---------------------------------------- 65.5/65.5 kB 3.7 MB/s eta 0:00:00\n",
      "Collecting protobuf<3.20,>=3.9.2\n",
      "  Downloading protobuf-3.19.6-cp39-cp39-win_amd64.whl (895 kB)\n",
      "     -------------------------------------- 895.9/895.9 kB 8.1 MB/s eta 0:00:00\n",
      "Collecting libclang>=13.0.0\n",
      "  Downloading libclang-14.0.6-py2.py3-none-win_amd64.whl (14.2 MB)\n",
      "     ---------------------------------------- 14.2/14.2 MB 9.3 MB/s eta 0:00:00\n",
      "Requirement already satisfied: setuptools in c:\\users\\sarathkumar\\anaconda3\\lib\\site-packages (from tensorflow-intel==2.11.0->tensorflow) (63.4.1)\n",
      "Collecting keras<2.12,>=2.11.0\n",
      "  Downloading keras-2.11.0-py2.py3-none-any.whl (1.7 MB)\n",
      "     ---------------------------------------- 1.7/1.7 MB 9.7 MB/s eta 0:00:00\n",
      "Collecting absl-py>=1.0.0\n",
      "  Downloading absl_py-1.3.0-py3-none-any.whl (124 kB)\n",
      "     -------------------------------------- 124.6/124.6 kB 7.1 MB/s eta 0:00:00\n",
      "Requirement already satisfied: numpy>=1.20 in c:\\users\\sarathkumar\\anaconda3\\lib\\site-packages (from tensorflow-intel==2.11.0->tensorflow) (1.21.5)\n",
      "Collecting tensorflow-io-gcs-filesystem>=0.23.1\n",
      "  Downloading tensorflow_io_gcs_filesystem-0.29.0-cp39-cp39-win_amd64.whl (1.5 MB)\n",
      "     ---------------------------------------- 1.5/1.5 MB 9.5 MB/s eta 0:00:00\n",
      "Collecting gast<=0.4.0,>=0.2.1\n",
      "  Downloading gast-0.4.0-py3-none-any.whl (9.8 kB)\n",
      "Collecting flatbuffers>=2.0\n",
      "  Downloading flatbuffers-22.12.6-py2.py3-none-any.whl (26 kB)\n",
      "Collecting google-pasta>=0.1.1\n",
      "  Downloading google_pasta-0.2.0-py3-none-any.whl (57 kB)\n",
      "     ---------------------------------------- 57.5/57.5 kB 3.0 MB/s eta 0:00:00\n",
      "Collecting tensorboard<2.12,>=2.11\n",
      "  Downloading tensorboard-2.11.0-py3-none-any.whl (6.0 MB)\n",
      "     ---------------------------------------- 6.0/6.0 MB 9.3 MB/s eta 0:00:00\n",
      "Requirement already satisfied: h5py>=2.9.0 in c:\\users\\sarathkumar\\anaconda3\\lib\\site-packages (from tensorflow-intel==2.11.0->tensorflow) (3.7.0)\n",
      "Requirement already satisfied: six>=1.12.0 in c:\\users\\sarathkumar\\anaconda3\\lib\\site-packages (from tensorflow-intel==2.11.0->tensorflow) (1.16.0)\n",
      "Requirement already satisfied: wrapt>=1.11.0 in c:\\users\\sarathkumar\\anaconda3\\lib\\site-packages (from tensorflow-intel==2.11.0->tensorflow) (1.14.1)\n",
      "Collecting tensorflow-estimator<2.12,>=2.11.0\n",
      "  Downloading tensorflow_estimator-2.11.0-py2.py3-none-any.whl (439 kB)\n",
      "     -------------------------------------- 439.2/439.2 kB 9.1 MB/s eta 0:00:00\n",
      "Requirement already satisfied: packaging in c:\\users\\sarathkumar\\anaconda3\\lib\\site-packages (from tensorflow-intel==2.11.0->tensorflow) (21.3)\n",
      "Collecting astunparse>=1.6.0\n",
      "  Downloading astunparse-1.6.3-py2.py3-none-any.whl (12 kB)\n",
      "Collecting grpcio<2.0,>=1.24.3\n",
      "  Downloading grpcio-1.51.1-cp39-cp39-win_amd64.whl (3.7 MB)\n",
      "     ---------------------------------------- 3.7/3.7 MB 9.2 MB/s eta 0:00:00\n",
      "Requirement already satisfied: typing-extensions>=3.6.6 in c:\\users\\sarathkumar\\anaconda3\\lib\\site-packages (from tensorflow-intel==2.11.0->tensorflow) (4.3.0)\n",
      "Collecting termcolor>=1.1.0\n",
      "  Downloading termcolor-2.1.1-py3-none-any.whl (6.2 kB)\n",
      "Requirement already satisfied: wheel<1.0,>=0.23.0 in c:\\users\\sarathkumar\\anaconda3\\lib\\site-packages (from astunparse>=1.6.0->tensorflow-intel==2.11.0->tensorflow) (0.37.1)\n",
      "Collecting google-auth<3,>=1.6.3\n",
      "  Downloading google_auth-2.15.0-py2.py3-none-any.whl (177 kB)\n",
      "     -------------------------------------- 177.0/177.0 kB 1.5 MB/s eta 0:00:00\n",
      "Requirement already satisfied: requests<3,>=2.21.0 in c:\\users\\sarathkumar\\anaconda3\\lib\\site-packages (from tensorboard<2.12,>=2.11->tensorflow-intel==2.11.0->tensorflow) (2.28.1)\n",
      "Collecting google-auth-oauthlib<0.5,>=0.4.1\n",
      "  Downloading google_auth_oauthlib-0.4.6-py2.py3-none-any.whl (18 kB)\n",
      "Collecting tensorboard-data-server<0.7.0,>=0.6.0\n",
      "  Downloading tensorboard_data_server-0.6.1-py3-none-any.whl (2.4 kB)\n",
      "Requirement already satisfied: markdown>=2.6.8 in c:\\users\\sarathkumar\\anaconda3\\lib\\site-packages (from tensorboard<2.12,>=2.11->tensorflow-intel==2.11.0->tensorflow) (3.3.4)\n",
      "Collecting tensorboard-plugin-wit>=1.6.0\n",
      "  Downloading tensorboard_plugin_wit-1.8.1-py3-none-any.whl (781 kB)\n",
      "     -------------------------------------- 781.3/781.3 kB 8.2 MB/s eta 0:00:00\n",
      "Requirement already satisfied: werkzeug>=1.0.1 in c:\\users\\sarathkumar\\anaconda3\\lib\\site-packages (from tensorboard<2.12,>=2.11->tensorflow-intel==2.11.0->tensorflow) (2.0.3)\n",
      "Requirement already satisfied: pyparsing!=3.0.5,>=2.0.2 in c:\\users\\sarathkumar\\anaconda3\\lib\\site-packages (from packaging->tensorflow-intel==2.11.0->tensorflow) (3.0.9)\n",
      "Collecting cachetools<6.0,>=2.0.0\n",
      "  Using cached cachetools-5.2.0-py3-none-any.whl (9.3 kB)\n",
      "Requirement already satisfied: pyasn1-modules>=0.2.1 in c:\\users\\sarathkumar\\anaconda3\\lib\\site-packages (from google-auth<3,>=1.6.3->tensorboard<2.12,>=2.11->tensorflow-intel==2.11.0->tensorflow) (0.2.8)\n",
      "Collecting rsa<5,>=3.1.4\n",
      "  Using cached rsa-4.9-py3-none-any.whl (34 kB)\n",
      "Collecting requests-oauthlib>=0.7.0\n",
      "  Downloading requests_oauthlib-1.3.1-py2.py3-none-any.whl (23 kB)\n",
      "Requirement already satisfied: idna<4,>=2.5 in c:\\users\\sarathkumar\\anaconda3\\lib\\site-packages (from requests<3,>=2.21.0->tensorboard<2.12,>=2.11->tensorflow-intel==2.11.0->tensorflow) (3.3)\n",
      "Requirement already satisfied: urllib3<1.27,>=1.21.1 in c:\\users\\sarathkumar\\anaconda3\\lib\\site-packages (from requests<3,>=2.21.0->tensorboard<2.12,>=2.11->tensorflow-intel==2.11.0->tensorflow) (1.26.11)\n",
      "Requirement already satisfied: charset-normalizer<3,>=2 in c:\\users\\sarathkumar\\anaconda3\\lib\\site-packages (from requests<3,>=2.21.0->tensorboard<2.12,>=2.11->tensorflow-intel==2.11.0->tensorflow) (2.0.4)\n",
      "Requirement already satisfied: certifi>=2017.4.17 in c:\\users\\sarathkumar\\anaconda3\\lib\\site-packages (from requests<3,>=2.21.0->tensorboard<2.12,>=2.11->tensorflow-intel==2.11.0->tensorflow) (2022.9.14)\n",
      "Requirement already satisfied: pyasn1<0.5.0,>=0.4.6 in c:\\users\\sarathkumar\\anaconda3\\lib\\site-packages (from pyasn1-modules>=0.2.1->google-auth<3,>=1.6.3->tensorboard<2.12,>=2.11->tensorflow-intel==2.11.0->tensorflow) (0.4.8)\n",
      "Collecting oauthlib>=3.0.0\n",
      "  Downloading oauthlib-3.2.2-py3-none-any.whl (151 kB)\n",
      "     -------------------------------------- 151.7/151.7 kB 4.6 MB/s eta 0:00:00\n",
      "Installing collected packages: tensorboard-plugin-wit, libclang, flatbuffers, termcolor, tensorflow-io-gcs-filesystem, tensorflow-estimator, tensorboard-data-server, rsa, protobuf, opt-einsum, oauthlib, keras, grpcio, google-pasta, gast, cachetools, astunparse, absl-py, requests-oauthlib, google-auth, google-auth-oauthlib, tensorboard, tensorflow-intel, tensorflow\n",
      "Successfully installed absl-py-1.3.0 astunparse-1.6.3 cachetools-5.2.0 flatbuffers-22.12.6 gast-0.4.0 google-auth-2.15.0 google-auth-oauthlib-0.4.6 google-pasta-0.2.0 grpcio-1.51.1 keras-2.11.0 libclang-14.0.6 oauthlib-3.2.2 opt-einsum-3.3.0 protobuf-3.19.6 requests-oauthlib-1.3.1 rsa-4.9 tensorboard-2.11.0 tensorboard-data-server-0.6.1 tensorboard-plugin-wit-1.8.1 tensorflow-2.11.0 tensorflow-estimator-2.11.0 tensorflow-intel-2.11.0 tensorflow-io-gcs-filesystem-0.29.0 termcolor-2.1.1\n"
     ]
    }
   ],
   "source": [
    "# pip install tensorflow"
   ]
  },
  {
   "cell_type": "code",
   "execution_count": 48,
   "metadata": {},
   "outputs": [],
   "source": [
    "import math\n",
    "import pandas as pd\n",
    "import tensorflow as tf\n",
    "import matplotlib.pyplot as plt\n",
    "from tensorflow.keras import Model\n",
    "from tensorflow.keras import Sequential\n",
    "from tensorflow.keras.optimizers import Adam\n",
    "from sklearn.preprocessing import StandardScaler\n",
    "from tensorflow.keras.layers import Dense, Dropout\n",
    "from sklearn.model_selection import train_test_split\n",
    "from tensorflow.keras.losses import MeanSquaredLogarithmicError, MeanSquaredError\n",
    "from sklearn.metrics import r2_score,mean_squared_error, mean_absolute_error, mean_absolute_percentage_error, mean_squared_log_error"
   ]
  },
  {
   "cell_type": "code",
   "execution_count": 4,
   "metadata": {},
   "outputs": [
    {
     "name": "stdout",
     "output_type": "stream",
     "text": [
      "----------------\n",
      "               Columns        Score\n",
      "31           sentiment  6773.682638\n",
      "0   host_response_rate  6431.843258\n",
      "29     amenities_count   263.548784\n",
      "1    host_is_superhost   149.157935\n",
      "26   reviews_per_month   120.950215\n",
      "----------------\n",
      "----------------\n",
      "               Columns        Score\n",
      "31           sentiment  5385.757684\n",
      "0   host_response_rate  3450.414756\n",
      "29     amenities_count   185.463246\n",
      "1    host_is_superhost   119.675834\n",
      "26   reviews_per_month    94.629085\n",
      "----------------\n",
      "----------------\n",
      "               Columns        Score\n",
      "0   host_response_rate  5711.801576\n",
      "31           sentiment  4928.552034\n",
      "29     amenities_count   258.664707\n",
      "1    host_is_superhost   160.091961\n",
      "26   reviews_per_month   157.658318\n",
      "----------------\n",
      "----------------\n",
      "               Columns        Score\n",
      "31           sentiment  4541.731696\n",
      "0   host_response_rate  2455.297309\n",
      "29     amenities_count   191.621710\n",
      "----------------\n",
      "----------------\n",
      "                Columns        Score\n",
      "31            sentiment  5040.744981\n",
      "0    host_response_rate  3306.701020\n",
      "29      amenities_count   185.167246\n",
      "1     host_is_superhost   111.153501\n",
      "2   host_listings_count    97.802658\n",
      "----------------\n",
      "----------------\n",
      "               Columns        Score\n",
      "31           sentiment  3309.771544\n",
      "0   host_response_rate  1929.527194\n",
      "29     amenities_count   173.207345\n",
      "1    host_is_superhost   108.893367\n",
      "26   reviews_per_month    75.971898\n",
      "----------------\n",
      "----------------\n",
      "               Columns        Score\n",
      "31           sentiment  5778.983397\n",
      "0   host_response_rate  3954.977579\n",
      "29     amenities_count   207.779472\n",
      "1    host_is_superhost   138.149830\n",
      "18   number_of_reviews    99.444126\n",
      "----------------\n"
     ]
    }
   ],
   "source": [
    "%run \"featureSelection.ipynb\""
   ]
  },
  {
   "cell_type": "code",
   "execution_count": 5,
   "metadata": {},
   "outputs": [],
   "source": [
    "input_features = initial_X.copy()"
   ]
  },
  {
   "cell_type": "code",
   "execution_count": 8,
   "metadata": {},
   "outputs": [],
   "source": [
    "# review_scores_rating = review_scores_rating_y.copy()\n",
    "# review_scores_accuracy = review_scores_accuracy_y.copy()\n",
    "# review_scores_cleanliness = review_scores_cleanliness_y.copy()\n",
    "# review_scores_checkin = review_scores_checkin_y.copy()\n",
    "# review_scores_communication = review_scores_communication_y.copy()\n",
    "# review_scores_location = review_scores_location_y.copy()\n",
    "# review_scores_value = review_scores_value_y.copy()"
   ]
  },
  {
   "cell_type": "code",
   "execution_count": 10,
   "metadata": {},
   "outputs": [],
   "source": [
    "#Splitting the model into train, and test\n",
    "from sklearn.model_selection import train_test_split\n",
    "review_scores_rating_Xtrain, review_scores_rating_Xtest, review_scores_rating_ytrain, review_scores_rating_ytest = train_test_split(input_features,review_scores_rating_y)\n",
    "review_scores_accuracy_Xtrain, review_scores_accuracy_Xtest, review_scores_accuracy_ytrain, review_scores_accuracy_ytest = train_test_split(input_features,review_scores_accuracy_y)\n",
    "review_scores_cleanliness_Xtrain, review_scores_cleanliness_Xtest, review_scores_cleanliness_ytrain, review_scores_cleanliness_ytest = train_test_split(input_features,review_scores_cleanliness_y)\n",
    "review_scores_checkin_Xtrain, review_scores_checkin_Xtest, review_scores_checkin_ytrain, review_scores_checkin_ytest = train_test_split(input_features,review_scores_checkin_y)\n",
    "review_scores_communication_Xtrain, review_scores_communication_Xtest, review_scores_communication_ytrain, review_scores_communication_ytest = train_test_split(input_features,review_scores_communication_y)\n",
    "review_scores_location_Xtrain, review_scores_location_Xtest, review_scores_location_ytrain, review_scores_location_ytest = train_test_split(input_features,review_scores_location_y)\n",
    "review_scores_value_Xtrain, review_scores_value_Xtest, review_scores_value_ytrain, review_scores_value_ytest = train_test_split(input_features,review_scores_value_y)"
   ]
  },
  {
   "cell_type": "code",
   "execution_count": 11,
   "metadata": {},
   "outputs": [],
   "source": [
    "def scaling_dataset(Xtrain, Xtest):\n",
    "    standard_scaler = StandardScaler()\n",
    "    x_train_scaled = pd.DataFrame(standard_scaler.fit_transform(Xtrain),index=Xtrain.index,columns=Xtrain.columns)\n",
    "    x_test_scaled = pd.DataFrame(standard_scaler.transform(Xtest),index=Xtest.index,columns = Xtest.columns)\n",
    "    return x_train_scaled, x_test_scaled"
   ]
  },
  {
   "cell_type": "code",
   "execution_count": 12,
   "metadata": {},
   "outputs": [],
   "source": [
    "review_scores_rating_Xtrain_scaled, review_scores_rating_Xtest_scaled = scaling_dataset(review_scores_rating_Xtrain, review_scores_rating_Xtest)\n",
    "review_scores_accuracy_Xtrain_scaled, review_scores_accuracy_Xtest_scaled = scaling_dataset(review_scores_accuracy_Xtrain, review_scores_accuracy_Xtest)\n",
    "review_scores_cleanliness_Xtrain_scaled, review_scores_cleanliness_Xtest_scaled = scaling_dataset(review_scores_cleanliness_Xtrain, review_scores_cleanliness_Xtest)\n",
    "review_scores_checkin_Xtrain_scaled, review_scores_checkin_Xtest_scaled = scaling_dataset(review_scores_checkin_Xtrain, review_scores_checkin_Xtest)\n",
    "review_scores_communication_Xtrain_scaled, review_scores_communication_Xtest_scaled = scaling_dataset(review_scores_communication_Xtrain, review_scores_communication_Xtest)\n",
    "review_scores_location_Xtrain_scaled, review_scores_location_Xtest_scaled = scaling_dataset(review_scores_location_Xtrain, review_scores_location_Xtest)\n",
    "review_scores_value_Xtrain_scaled, review_scores_value_Xtest_scaled = scaling_dataset(review_scores_value_Xtrain, review_scores_value_Xtest)"
   ]
  },
  {
   "cell_type": "code",
   "execution_count": 61,
   "metadata": {},
   "outputs": [
    {
     "data": {
      "text/plain": [
       "(5674, 32)"
      ]
     },
     "execution_count": 61,
     "metadata": {},
     "output_type": "execute_result"
    }
   ],
   "source": [
    "review_scores_rating_Xtrain_scaled.shape"
   ]
  },
  {
   "cell_type": "code",
   "execution_count": 84,
   "metadata": {},
   "outputs": [
    {
     "name": "stdout",
     "output_type": "stream",
     "text": [
      "Epoch 1/25\n",
      "71/71 [==============================] - 1s 6ms/step - loss: 3.6595 - mean_squared_error: 3.6560 - val_loss: 0.7280 - val_mean_squared_error: 0.7266\n",
      "Epoch 2/25\n",
      "71/71 [==============================] - 0s 4ms/step - loss: 0.6855 - mean_squared_error: 0.6852 - val_loss: 0.4855 - val_mean_squared_error: 0.4841\n",
      "Epoch 3/25\n",
      "71/71 [==============================] - 0s 5ms/step - loss: 0.4917 - mean_squared_error: 0.4916 - val_loss: 0.3690 - val_mean_squared_error: 0.3684\n",
      "Epoch 4/25\n",
      "71/71 [==============================] - 0s 5ms/step - loss: 0.4224 - mean_squared_error: 0.4224 - val_loss: 0.3178 - val_mean_squared_error: 0.3176\n",
      "Epoch 5/25\n",
      "71/71 [==============================] - 0s 5ms/step - loss: 0.3626 - mean_squared_error: 0.3625 - val_loss: 0.2675 - val_mean_squared_error: 0.2678\n",
      "Epoch 6/25\n",
      "71/71 [==============================] - 0s 5ms/step - loss: 0.3291 - mean_squared_error: 0.3291 - val_loss: 0.2335 - val_mean_squared_error: 0.2340\n",
      "Epoch 7/25\n",
      "71/71 [==============================] - 0s 4ms/step - loss: 0.3038 - mean_squared_error: 0.3037 - val_loss: 0.2232 - val_mean_squared_error: 0.2231\n",
      "Epoch 8/25\n",
      "71/71 [==============================] - 0s 5ms/step - loss: 0.2841 - mean_squared_error: 0.2841 - val_loss: 0.1932 - val_mean_squared_error: 0.1942\n",
      "Epoch 9/25\n",
      "71/71 [==============================] - 0s 5ms/step - loss: 0.2727 - mean_squared_error: 0.2726 - val_loss: 0.1818 - val_mean_squared_error: 0.1823\n",
      "Epoch 10/25\n",
      "71/71 [==============================] - 0s 5ms/step - loss: 0.2550 - mean_squared_error: 0.2549 - val_loss: 0.1719 - val_mean_squared_error: 0.1727\n",
      "Epoch 11/25\n",
      "71/71 [==============================] - 0s 5ms/step - loss: 0.2437 - mean_squared_error: 0.2437 - val_loss: 0.1764 - val_mean_squared_error: 0.1772\n",
      "Epoch 12/25\n",
      "71/71 [==============================] - 0s 5ms/step - loss: 0.2344 - mean_squared_error: 0.2343 - val_loss: 0.1607 - val_mean_squared_error: 0.1617\n",
      "Epoch 13/25\n",
      "71/71 [==============================] - 0s 5ms/step - loss: 0.2252 - mean_squared_error: 0.2251 - val_loss: 0.1407 - val_mean_squared_error: 0.1417\n",
      "Epoch 14/25\n",
      "71/71 [==============================] - 0s 5ms/step - loss: 0.2178 - mean_squared_error: 0.2178 - val_loss: 0.1475 - val_mean_squared_error: 0.1486\n",
      "Epoch 15/25\n",
      "71/71 [==============================] - 0s 5ms/step - loss: 0.2175 - mean_squared_error: 0.2175 - val_loss: 0.1441 - val_mean_squared_error: 0.1447\n",
      "Epoch 16/25\n",
      "71/71 [==============================] - 0s 4ms/step - loss: 0.2028 - mean_squared_error: 0.2027 - val_loss: 0.1364 - val_mean_squared_error: 0.1371\n",
      "Epoch 17/25\n",
      "71/71 [==============================] - 0s 6ms/step - loss: 0.1983 - mean_squared_error: 0.1982 - val_loss: 0.1384 - val_mean_squared_error: 0.1393\n",
      "Epoch 18/25\n",
      "71/71 [==============================] - 0s 5ms/step - loss: 0.1976 - mean_squared_error: 0.1977 - val_loss: 0.1482 - val_mean_squared_error: 0.1492\n",
      "Epoch 19/25\n",
      "71/71 [==============================] - 0s 5ms/step - loss: 0.1906 - mean_squared_error: 0.1907 - val_loss: 0.1393 - val_mean_squared_error: 0.1406\n",
      "Epoch 20/25\n",
      "71/71 [==============================] - 0s 5ms/step - loss: 0.1891 - mean_squared_error: 0.1892 - val_loss: 0.1328 - val_mean_squared_error: 0.1340\n",
      "Epoch 21/25\n",
      "71/71 [==============================] - 0s 5ms/step - loss: 0.1795 - mean_squared_error: 0.1795 - val_loss: 0.1371 - val_mean_squared_error: 0.1386\n",
      "Epoch 22/25\n",
      "71/71 [==============================] - 0s 5ms/step - loss: 0.1749 - mean_squared_error: 0.1749 - val_loss: 0.1392 - val_mean_squared_error: 0.1404\n",
      "Epoch 23/25\n",
      "71/71 [==============================] - 0s 5ms/step - loss: 0.1756 - mean_squared_error: 0.1756 - val_loss: 0.1416 - val_mean_squared_error: 0.1430\n",
      "Epoch 24/25\n",
      "71/71 [==============================] - 0s 5ms/step - loss: 0.1719 - mean_squared_error: 0.1719 - val_loss: 0.1413 - val_mean_squared_error: 0.1422\n",
      "Epoch 25/25\n",
      "71/71 [==============================] - 0s 5ms/step - loss: 0.1707 - mean_squared_error: 0.1708 - val_loss: 0.1353 - val_mean_squared_error: 0.1362\n"
     ]
    },
    {
     "data": {
      "image/png": "[encoded data removed]",
      "text/plain": [
       "<Figure size 640x480 with 1 Axes>"
      ]
     },
     "metadata": {},
     "output_type": "display_data"
    },
    {
     "name": "stdout",
     "output_type": "stream",
     "text": [
      "60/60 [==============================] - 0s 2ms/step\n",
      "R2 accuracy score: 0.4951670103475123\n",
      "MAE: 0.21156511137748213\n",
      "MSE: 0.2354416168306868\n",
      "RMSE: 0.48522326493139917\n"
     ]
    }
   ],
   "source": [
    "hidden_units1 = 160 #number of columns *5\n",
    "hidden_units2 = 480 #previous layer *3\n",
    "hidden_units3 = 240 #previous layer /2\n",
    "hidden_units4 = 120 #previous layer /2\n",
    "hidden_units5 = 60 #previous layer /2\n",
    "learning_rate = 0.001\n",
    "\n",
    "# Creating model using the Sequential in tensorflow\n",
    "def build_model_using_sequential():\n",
    "  model = Sequential([\n",
    "    Dense(hidden_units1, kernel_initializer='normal', activation='relu'),\n",
    "    Dropout(0.2),\n",
    "    Dense(hidden_units2, kernel_initializer='normal', activation='relu'),\n",
    "    Dropout(0.4),\n",
    "    # Dense(hidden_units3, kernel_initializer='normal', activation='relu'),\n",
    "    # Dropout(0.2),\n",
    "    # Dense(hidden_units4, kernel_initializer='normal', activation='relu'),\n",
    "    # Dropout(0.2),\n",
    "    # Dense(hidden_units5, kernel_initializer='normal', activation='relu'),\n",
    "    Dense(1, kernel_initializer='normal', activation='linear')\n",
    "  ])\n",
    "  return model\n",
    "\n",
    "# build the model\n",
    "model = build_model_using_sequential()\n",
    "\n",
    "# loss function\n",
    "mse = MeanSquaredError()\n",
    "model.compile(\n",
    "    loss=mse, \n",
    "    optimizer=Adam(learning_rate=learning_rate), \n",
    "    metrics=[mse]\n",
    ")\n",
    "\n",
    "# train the model\n",
    "history = model.fit(\n",
    "    review_scores_rating_Xtrain_scaled.values, \n",
    "    review_scores_rating_ytrain.values, \n",
    "    epochs=25, \n",
    "    batch_size=64,\n",
    "    validation_split=0.2\n",
    ")\n",
    "\n",
    "\n",
    "def plot_history(history, key):\n",
    "  plt.plot(history.history[key])\n",
    "  plt.plot(history.history['val_'+key])\n",
    "  plt.xlabel(\"Epochs\")\n",
    "  plt.ylabel(key)\n",
    "  plt.legend([key, 'val_'+key])\n",
    "  plt.show()\n",
    "# Plot the history\n",
    "plot_history(history, 'mean_squared_error')\n",
    "\n",
    "review_scores_rating_model_pred= model.predict(review_scores_rating_Xtest_scaled)\n",
    "print('R2 accuracy score:',r2_score(review_scores_rating_ytest,review_scores_rating_model_pred))\n",
    "print('MAE:',mean_absolute_error(review_scores_rating_ytest,review_scores_rating_model_pred))\n",
    "print('MSE:',mean_squared_error(review_scores_rating_ytest,review_scores_rating_model_pred))\n",
    "print('RMSE:',mean_squared_error(review_scores_rating_ytest,review_scores_rating_model_pred,squared=False))\n"
   ]
  },
  {
   "attachments": {},
   "cell_type": "markdown",
   "metadata": {},
   "source": [
    "ref:\n",
    "1) <<https://www.analyticsvidhya.com/blog/2021/08/a-walk-through-of-regression-analysis-using-artificial-neural-networks-in-tensorflow/>>\n",
    "2) <<https://machinelearningmastery.com/how-to-configure-the-number-of-layers-and-nodes-in-a-neural-network/>>"
   ]
  }
 ],
 "metadata": {
  "kernelspec": {
   "display_name": "base",
   "language": "python",
   "name": "python3"
  },
  "language_info": {
   "codemirror_mode": {
    "name": "ipython",
    "version": 3
   },
   "file_extension": ".py",
   "mimetype": "text/x-python",
   "name": "python",
   "nbconvert_exporter": "python",
   "pygments_lexer": "ipython3",
   "version": "3.9.13"
  },
  "orig_nbformat": 4,
  "vscode": {
   "interpreter": {
    "hash": "3ae812cea1838cfe625ef2ccd041db9e8a15742a5c13070da45ad927857ccd83"
   }
  }
 },
 "nbformat": 4,
 "nbformat_minor": 2
}
