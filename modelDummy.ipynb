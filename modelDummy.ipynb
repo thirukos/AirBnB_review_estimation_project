{
 "cells": [
  {
   "cell_type": "code",
   "execution_count": 1,
   "metadata": {},
   "outputs": [],
   "source": [
    "import os\n",
    "import numpy as np\n",
    "import pandas as pd\n",
    "import matplotlib.pyplot as plt\n",
    "from sklearn.metrics import r2_score\n",
    "from sklearn.dummy import DummyRegressor\n",
    "from sklearn.metrics import mean_squared_error, mean_absolute_error, mean_absolute_percentage_error"
   ]
  },
  {
   "cell_type": "code",
   "execution_count": 2,
   "metadata": {},
   "outputs": [
    {
     "name": "stdout",
     "output_type": "stream",
     "text": [
      "----------------\n",
      "               Columns        Score\n",
      "31           sentiment  6773.682638\n",
      "0   host_response_rate  6431.843258\n",
      "29     amenities_count   263.548784\n",
      "1    host_is_superhost   149.157935\n",
      "26   reviews_per_month   120.950215\n",
      "----------------\n",
      "----------------\n",
      "               Columns        Score\n",
      "31           sentiment  5385.757684\n",
      "0   host_response_rate  3450.414756\n",
      "29     amenities_count   185.463246\n",
      "1    host_is_superhost   119.675834\n",
      "26   reviews_per_month    94.629085\n",
      "----------------\n",
      "----------------\n",
      "               Columns        Score\n",
      "0   host_response_rate  5711.801576\n",
      "31           sentiment  4928.552034\n",
      "29     amenities_count   258.664707\n",
      "1    host_is_superhost   160.091961\n",
      "26   reviews_per_month   157.658318\n",
      "----------------\n",
      "----------------\n",
      "               Columns        Score\n",
      "31           sentiment  4541.731696\n",
      "0   host_response_rate  2455.297309\n",
      "29     amenities_count   191.621710\n",
      "----------------\n",
      "----------------\n",
      "                Columns        Score\n",
      "31            sentiment  5040.744981\n",
      "0    host_response_rate  3306.701020\n",
      "29      amenities_count   185.167246\n",
      "1     host_is_superhost   111.153501\n",
      "2   host_listings_count    97.802658\n",
      "----------------\n",
      "----------------\n",
      "               Columns        Score\n",
      "31           sentiment  3309.771544\n",
      "0   host_response_rate  1929.527194\n",
      "29     amenities_count   173.207345\n",
      "1    host_is_superhost   108.893367\n",
      "26   reviews_per_month    75.971898\n",
      "----------------\n",
      "----------------\n",
      "               Columns        Score\n",
      "31           sentiment  5778.983397\n",
      "0   host_response_rate  3954.977579\n",
      "29     amenities_count   207.779472\n",
      "1    host_is_superhost   138.149830\n",
      "18   number_of_reviews    99.444126\n",
      "----------------\n",
      "----------------\n",
      "               Columns        Score\n",
      "31           sentiment  6773.682638\n",
      "0   host_response_rate  6431.843258\n",
      "29     amenities_count   263.548784\n",
      "1    host_is_superhost   149.157935\n",
      "26   reviews_per_month   120.950215\n",
      "----------------\n",
      "----------------\n",
      "               Columns        Score\n",
      "31           sentiment  5385.757684\n",
      "0   host_response_rate  3450.414756\n",
      "29     amenities_count   185.463246\n",
      "1    host_is_superhost   119.675834\n",
      "26   reviews_per_month    94.629085\n",
      "----------------\n",
      "----------------\n",
      "               Columns        Score\n",
      "0   host_response_rate  5711.801576\n",
      "31           sentiment  4928.552034\n",
      "29     amenities_count   258.664707\n",
      "1    host_is_superhost   160.091961\n",
      "26   reviews_per_month   157.658318\n",
      "----------------\n",
      "----------------\n",
      "               Columns        Score\n",
      "31           sentiment  4541.731696\n",
      "0   host_response_rate  2455.297309\n",
      "29     amenities_count   191.621710\n",
      "1    host_is_superhost   121.687747\n",
      "18   number_of_reviews    71.243979\n",
      "----------------\n",
      "----------------\n",
      "                Columns        Score\n",
      "31            sentiment  5040.744981\n",
      "0    host_response_rate  3306.701020\n",
      "29      amenities_count   185.167246\n",
      "1     host_is_superhost   111.153501\n",
      "2   host_listings_count    97.802658\n",
      "----------------\n",
      "----------------\n",
      "                   Columns        Score\n",
      "31               sentiment  3309.771544\n",
      "0       host_response_rate  1929.527194\n",
      "29         amenities_count   173.207345\n",
      "1        host_is_superhost   108.893367\n",
      "26       reviews_per_month    75.971898\n",
      "18       number_of_reviews    64.578726\n",
      "6                room_type    63.176511\n",
      "5   host_identity_verified    45.704665\n",
      "19   number_of_reviews_ltm    40.761317\n",
      "20  number_of_reviews_l30d    40.019857\n",
      "----------------\n",
      "----------------\n",
      "               Columns        Score\n",
      "31           sentiment  5778.983397\n",
      "0   host_response_rate  3954.977579\n",
      "29     amenities_count   207.779472\n",
      "1    host_is_superhost   138.149830\n",
      "18   number_of_reviews    99.444126\n",
      "----------------\n"
     ]
    }
   ],
   "source": [
    "%run \"featureSelection.ipynb\""
   ]
  },
  {
   "cell_type": "code",
   "execution_count": 3,
   "metadata": {},
   "outputs": [],
   "source": [
    "#Splitting the model into train, and test\n",
    "from sklearn.model_selection import train_test_split\n",
    "review_scores_rating_Xtrain, review_scores_rating_Xtest, review_scores_rating_ytrain, review_scores_rating_ytest = train_test_split(review_scores_rating_M2X,review_scores_rating_y)\n",
    "review_scores_accuracy_Xtrain, review_scores_accuracy_Xtest, review_scores_accuracy_ytrain, review_scores_accuracy_ytest = train_test_split(review_scores_accuracy_M2X,review_scores_accuracy_y)\n",
    "review_scores_cleanliness_Xtrain, review_scores_cleanliness_Xtest, review_scores_cleanliness_ytrain, review_scores_cleanliness_ytest = train_test_split(review_scores_cleanliness_M2X,review_scores_cleanliness_y)\n",
    "review_scores_checkin_Xtrain, review_scores_checkin_Xtest, review_scores_checkin_ytrain, review_scores_checkin_ytest = train_test_split(review_scores_checkin_M2X,review_scores_checkin_y)\n",
    "review_scores_communication_Xtrain, review_scores_communication_Xtest, review_scores_communication_ytrain, review_scores_communication_ytest = train_test_split(review_scores_communication_M2X,review_scores_communication_y)\n",
    "review_scores_location_Xtrain, review_scores_location_Xtest, review_scores_location_ytrain, review_scores_location_ytest = train_test_split(review_scores_location_M2X,review_scores_location_y)\n",
    "review_scores_value_Xtrain, review_scores_value_Xtest, review_scores_value_ytrain, review_scores_value_ytest = train_test_split(review_scores_value_M2X,review_scores_value_y)"
   ]
  },
  {
   "cell_type": "code",
   "execution_count": 4,
   "metadata": {},
   "outputs": [
    {
     "name": "stdout",
     "output_type": "stream",
     "text": [
      "R2 score: -0.004688593876846392\n",
      "MAE: 0.3928384372991048\n",
      "MSE: 0.6672414480016626\n",
      "RMSE: 0.8168484853396392\n"
     ]
    }
   ],
   "source": [
    "review_scores_rating_dummy_regr = DummyRegressor(strategy=\"mean\").fit(review_scores_rating_Xtrain,review_scores_rating_ytrain)\n",
    "review_scores_rating_dummy_pred = review_scores_rating_dummy_regr.predict(review_scores_rating_Xtest)\n",
    "print('R2 score:',r2_score(review_scores_rating_ytest,review_scores_rating_dummy_pred))\n",
    "print('MAE:',mean_absolute_error(review_scores_rating_ytest,review_scores_rating_dummy_pred))\n",
    "print('MSE:',mean_squared_error(review_scores_rating_ytest,review_scores_rating_dummy_pred))\n",
    "print('RMSE:',mean_squared_error(review_scores_rating_ytest,review_scores_rating_dummy_pred,squared=False))"
   ]
  },
  {
   "cell_type": "code",
   "execution_count": 5,
   "metadata": {},
   "outputs": [
    {
     "name": "stdout",
     "output_type": "stream",
     "text": [
      "R2 score: -7.721516288805574e-06\n",
      "MAE: 0.2826678115983411\n",
      "MSE: 0.31251883932507907\n",
      "RMSE: 0.5590338445256057\n"
     ]
    }
   ],
   "source": [
    "review_scores_accuracy_dummy_regr = DummyRegressor(strategy=\"mean\").fit(review_scores_accuracy_Xtrain,review_scores_accuracy_ytrain)\n",
    "review_scores_accuracy_dummy_pred = review_scores_accuracy_dummy_regr.predict(review_scores_accuracy_Xtest)\n",
    "print('R2 score:',r2_score(review_scores_accuracy_ytest,review_scores_accuracy_dummy_pred))\n",
    "print('MAE:',mean_absolute_error(review_scores_accuracy_ytest,review_scores_accuracy_dummy_pred))\n",
    "print('MSE:',mean_squared_error(review_scores_accuracy_ytest,review_scores_accuracy_dummy_pred))\n",
    "print('RMSE:',mean_squared_error(review_scores_accuracy_ytest,review_scores_accuracy_dummy_pred,squared=False))"
   ]
  },
  {
   "cell_type": "code",
   "execution_count": 6,
   "metadata": {},
   "outputs": [
    {
     "name": "stdout",
     "output_type": "stream",
     "text": [
      "R2 score: -0.0008660739151584718\n",
      "MAE: 0.39627809883765575\n",
      "MSE: 0.5288341578013773\n",
      "RMSE: 0.7272098444062604\n"
     ]
    }
   ],
   "source": [
    "review_scores_cleanliness_dummy_regr = DummyRegressor(strategy=\"mean\").fit(review_scores_cleanliness_Xtrain,review_scores_cleanliness_ytrain)\n",
    "review_scores_cleanliness_dummy_pred = review_scores_cleanliness_dummy_regr.predict(review_scores_cleanliness_Xtest)\n",
    "print('R2 score:',r2_score(review_scores_cleanliness_ytest,review_scores_cleanliness_dummy_pred))\n",
    "print('MAE:',mean_absolute_error(review_scores_cleanliness_ytest,review_scores_cleanliness_dummy_pred))\n",
    "print('MSE:',mean_squared_error(review_scores_cleanliness_ytest,review_scores_cleanliness_dummy_pred))\n",
    "print('RMSE:',mean_squared_error(review_scores_cleanliness_ytest,review_scores_cleanliness_dummy_pred,squared=False))"
   ]
  },
  {
   "cell_type": "code",
   "execution_count": 7,
   "metadata": {},
   "outputs": [
    {
     "name": "stdout",
     "output_type": "stream",
     "text": [
      "R2 score: -0.0007062525750902715\n",
      "MAE: 0.23689072743380296\n",
      "MSE: 0.21539342060095223\n",
      "RMSE: 0.46410496722288186\n"
     ]
    }
   ],
   "source": [
    "review_scores_checkin_dummy_regr = DummyRegressor(strategy=\"mean\").fit(review_scores_checkin_Xtrain,review_scores_checkin_ytrain)\n",
    "review_scores_checkin_dummy_pred = review_scores_checkin_dummy_regr.predict(review_scores_checkin_Xtest)\n",
    "print('R2 score:',r2_score(review_scores_checkin_ytest,review_scores_checkin_dummy_pred))\n",
    "print('MAE:',mean_absolute_error(review_scores_checkin_ytest,review_scores_checkin_dummy_pred))\n",
    "print('MSE:',mean_squared_error(review_scores_checkin_ytest,review_scores_checkin_dummy_pred))\n",
    "print('RMSE:',mean_squared_error(review_scores_checkin_ytest,review_scores_checkin_dummy_pred,squared=False))"
   ]
  },
  {
   "cell_type": "code",
   "execution_count": 8,
   "metadata": {},
   "outputs": [
    {
     "name": "stdout",
     "output_type": "stream",
     "text": [
      "R2 score: -0.00035331286996398426\n",
      "MAE: 0.22214676425836255\n",
      "MSE: 0.1763778606774211\n",
      "RMSE: 0.4199736428365726\n"
     ]
    }
   ],
   "source": [
    "review_scores_communication_dummy_regr = DummyRegressor(strategy=\"mean\").fit(review_scores_communication_Xtrain,review_scores_communication_ytrain)\n",
    "review_scores_communication_dummy_pred = review_scores_communication_dummy_regr.predict(review_scores_communication_Xtest)\n",
    "print('R2 score:',r2_score(review_scores_communication_ytest,review_scores_communication_dummy_pred))\n",
    "print('MAE:',mean_absolute_error(review_scores_communication_ytest,review_scores_communication_dummy_pred))\n",
    "print('MSE:',mean_squared_error(review_scores_communication_ytest,review_scores_communication_dummy_pred))\n",
    "print('RMSE:',mean_squared_error(review_scores_communication_ytest,review_scores_communication_dummy_pred,squared=False))"
   ]
  },
  {
   "cell_type": "code",
   "execution_count": 9,
   "metadata": {},
   "outputs": [
    {
     "name": "stdout",
     "output_type": "stream",
     "text": [
      "R2 score: -0.0003855738872091674\n",
      "MAE: 0.2536850964317205\n",
      "MSE: 0.18225492576858773\n",
      "RMSE: 0.426913253212626\n"
     ]
    }
   ],
   "source": [
    "review_scores_location_dummy_regr = DummyRegressor(strategy=\"mean\").fit(review_scores_location_Xtrain,review_scores_location_ytrain)\n",
    "review_scores_location_dummy_pred = review_scores_location_dummy_regr.predict(review_scores_location_Xtest)\n",
    "print('R2 score:',r2_score(review_scores_location_ytest,review_scores_location_dummy_pred))\n",
    "print('MAE:',mean_absolute_error(review_scores_location_ytest,review_scores_location_dummy_pred))\n",
    "print('MSE:',mean_squared_error(review_scores_location_ytest,review_scores_location_dummy_pred))\n",
    "print('RMSE:',mean_squared_error(review_scores_location_ytest,review_scores_location_dummy_pred,squared=False))"
   ]
  },
  {
   "cell_type": "code",
   "execution_count": 10,
   "metadata": {},
   "outputs": [
    {
     "name": "stdout",
     "output_type": "stream",
     "text": [
      "R2 score: -0.0005098458008498952\n",
      "MAE: 0.35542723823683586\n",
      "MSE: 0.45645502400725635\n",
      "RMSE: 0.6756145528385666\n"
     ]
    }
   ],
   "source": [
    "review_scores_value_dummy_regr = DummyRegressor(strategy=\"mean\").fit(review_scores_value_Xtrain,review_scores_value_ytrain)\n",
    "review_scores_value_dummy_pred = review_scores_value_dummy_regr.predict(review_scores_value_Xtest)\n",
    "print('R2 score:',r2_score(review_scores_value_ytest,review_scores_value_dummy_pred))\n",
    "print('MAE:',mean_absolute_error(review_scores_value_ytest,review_scores_value_dummy_pred))\n",
    "print('MSE:',mean_squared_error(review_scores_value_ytest,review_scores_value_dummy_pred))\n",
    "print('RMSE:',mean_squared_error(review_scores_value_ytest,review_scores_value_dummy_pred,squared=False))"
   ]
  }
 ],
 "metadata": {
  "kernelspec": {
   "display_name": "base",
   "language": "python",
   "name": "python3"
  },
  "language_info": {
   "codemirror_mode": {
    "name": "ipython",
    "version": 3
   },
   "file_extension": ".py",
   "mimetype": "text/x-python",
   "name": "python",
   "nbconvert_exporter": "python",
   "pygments_lexer": "ipython3",
   "version": "3.9.13"
  },
  "orig_nbformat": 4,
  "vscode": {
   "interpreter": {
    "hash": "3ae812cea1838cfe625ef2ccd041db9e8a15742a5c13070da45ad927857ccd83"
   }
  }
 },
 "nbformat": 4,
 "nbformat_minor": 2
}
