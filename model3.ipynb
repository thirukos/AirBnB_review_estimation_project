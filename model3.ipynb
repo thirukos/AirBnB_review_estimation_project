{
 "cells": [
  {
   "cell_type": "code",
   "execution_count": 77,
   "metadata": {},
   "outputs": [],
   "source": [
    "import os\n",
    "import numpy as np\n",
    "import pandas as pd\n",
    "import matplotlib.pyplot as plt\n",
    "from sklearn.metrics import r2_score\n",
    "from sklearn.ensemble import RandomForestRegressor\n",
    "from sklearn.model_selection import KFold\n",
    "from sklearn.metrics import mean_squared_error, mean_absolute_error, mean_absolute_percentage_error"
   ]
  },
  {
   "cell_type": "code",
   "execution_count": 78,
   "metadata": {},
   "outputs": [
    {
     "name": "stdout",
     "output_type": "stream",
     "text": [
      "----------------\n",
      "               Columns        Score\n",
      "31           sentiment  6773.682638\n",
      "0   host_response_rate  6431.843258\n",
      "29     amenities_count   263.548784\n",
      "1    host_is_superhost   149.157935\n",
      "26   reviews_per_month   120.950215\n",
      "----------------\n",
      "----------------\n",
      "               Columns        Score\n",
      "31           sentiment  5385.757684\n",
      "0   host_response_rate  3450.414756\n",
      "29     amenities_count   185.463246\n",
      "1    host_is_superhost   119.675834\n",
      "26   reviews_per_month    94.629085\n",
      "----------------\n",
      "----------------\n",
      "               Columns        Score\n",
      "0   host_response_rate  5711.801576\n",
      "31           sentiment  4928.552034\n",
      "29     amenities_count   258.664707\n",
      "1    host_is_superhost   160.091961\n",
      "26   reviews_per_month   157.658318\n",
      "----------------\n",
      "----------------\n",
      "               Columns        Score\n",
      "31           sentiment  4541.731696\n",
      "0   host_response_rate  2455.297309\n",
      "29     amenities_count   191.621710\n",
      "----------------\n",
      "----------------\n",
      "                Columns        Score\n",
      "31            sentiment  5040.744981\n",
      "0    host_response_rate  3306.701020\n",
      "29      amenities_count   185.167246\n",
      "1     host_is_superhost   111.153501\n",
      "2   host_listings_count    97.802658\n",
      "----------------\n",
      "----------------\n",
      "               Columns        Score\n",
      "31           sentiment  3309.771544\n",
      "0   host_response_rate  1929.527194\n",
      "29     amenities_count   173.207345\n",
      "1    host_is_superhost   108.893367\n",
      "26   reviews_per_month    75.971898\n",
      "----------------\n",
      "----------------\n",
      "               Columns        Score\n",
      "31           sentiment  5778.983397\n",
      "0   host_response_rate  3954.977579\n",
      "29     amenities_count   207.779472\n",
      "1    host_is_superhost   138.149830\n",
      "18   number_of_reviews    99.444126\n",
      "----------------\n",
      "----------------\n",
      "               Columns        Score\n",
      "31           sentiment  6773.682638\n",
      "0   host_response_rate  6431.843258\n",
      "29     amenities_count   263.548784\n",
      "1    host_is_superhost   149.157935\n",
      "26   reviews_per_month   120.950215\n",
      "----------------\n",
      "----------------\n",
      "               Columns        Score\n",
      "31           sentiment  5385.757684\n",
      "0   host_response_rate  3450.414756\n",
      "29     amenities_count   185.463246\n",
      "1    host_is_superhost   119.675834\n",
      "26   reviews_per_month    94.629085\n",
      "----------------\n",
      "----------------\n",
      "               Columns        Score\n",
      "0   host_response_rate  5711.801576\n",
      "31           sentiment  4928.552034\n",
      "29     amenities_count   258.664707\n",
      "1    host_is_superhost   160.091961\n",
      "26   reviews_per_month   157.658318\n",
      "----------------\n",
      "----------------\n",
      "               Columns        Score\n",
      "31           sentiment  4541.731696\n",
      "0   host_response_rate  2455.297309\n",
      "29     amenities_count   191.621710\n",
      "1    host_is_superhost   121.687747\n",
      "18   number_of_reviews    71.243979\n",
      "----------------\n",
      "----------------\n",
      "                Columns        Score\n",
      "31            sentiment  5040.744981\n",
      "0    host_response_rate  3306.701020\n",
      "29      amenities_count   185.167246\n",
      "1     host_is_superhost   111.153501\n",
      "2   host_listings_count    97.802658\n",
      "----------------\n",
      "----------------\n",
      "               Columns        Score\n",
      "31           sentiment  3309.771544\n",
      "0   host_response_rate  1929.527194\n",
      "29     amenities_count   173.207345\n",
      "1    host_is_superhost   108.893367\n",
      "26   reviews_per_month    75.971898\n",
      "----------------\n",
      "----------------\n",
      "               Columns        Score\n",
      "31           sentiment  5778.983397\n",
      "0   host_response_rate  3954.977579\n",
      "29     amenities_count   207.779472\n",
      "1    host_is_superhost   138.149830\n",
      "18   number_of_reviews    99.444126\n",
      "----------------\n"
     ]
    }
   ],
   "source": [
    "%run \"featureSelection.ipynb\""
   ]
  },
  {
   "cell_type": "code",
   "execution_count": 79,
   "metadata": {},
   "outputs": [],
   "source": [
    "#Splitting the model into train, and test\n",
    "from sklearn.model_selection import train_test_split\n",
    "review_scores_rating_Xtrain, review_scores_rating_Xtest, review_scores_rating_ytrain, review_scores_rating_ytest = train_test_split(review_scores_rating_M2X,review_scores_rating_y)\n",
    "review_scores_accuracy_Xtrain, review_scores_accuracy_Xtest, review_scores_accuracy_ytrain, review_scores_accuracy_ytest = train_test_split(review_scores_accuracy_M2X,review_scores_accuracy_y)\n",
    "review_scores_cleanliness_Xtrain, review_scores_cleanliness_Xtest, review_scores_cleanliness_ytrain, review_scores_cleanliness_ytest = train_test_split(review_scores_cleanliness_M2X,review_scores_cleanliness_y)\n",
    "review_scores_checkin_Xtrain, review_scores_checkin_Xtest, review_scores_checkin_ytrain, review_scores_checkin_ytest = train_test_split(review_scores_checkin_M2X,review_scores_checkin_y)\n",
    "review_scores_communication_Xtrain, review_scores_communication_Xtest, review_scores_communication_ytrain, review_scores_communication_ytest = train_test_split(review_scores_communication_M2X,review_scores_communication_y)\n",
    "review_scores_location_Xtrain, review_scores_location_Xtest, review_scores_location_ytrain, review_scores_location_ytest = train_test_split(review_scores_location_M2X,review_scores_location_y)\n",
    "review_scores_value_Xtrain, review_scores_value_Xtest, review_scores_value_ytrain, review_scores_value_ytest = train_test_split(review_scores_value_M2X,review_scores_value_y)"
   ]
  },
  {
   "cell_type": "code",
   "execution_count": 65,
   "metadata": {},
   "outputs": [],
   "source": [
    "def randomForest_GridSearchCV (Xtrain,Xtest,ytrain,ytest,cv = 3):\n",
    "    from sklearn.model_selection import GridSearchCV\n",
    "    param_grid = {\n",
    "    'bootstrap': [True, False],\n",
    "    'max_depth': [80, 90, 100, 110],\n",
    "    'max_features': ['auto', 'sqrt', 'log2'],\n",
    "    'min_samples_leaf': [3, 4, 5],\n",
    "    'min_samples_split': [8, 10, 12],\n",
    "    'n_estimators': [100, 200, 300, 1000]\n",
    "    }\n",
    "    # Create a based model\n",
    "    rf = RandomForestRegressor()\n",
    "    # Instantiate the grid search model\n",
    "    grid_search = GridSearchCV(estimator = rf, param_grid = param_grid, cv = cv, n_jobs = -1, verbose = 2)\n",
    "    # Fit the grid search to the data\n",
    "    grid_search.fit(Xtrain, ytrain)\n",
    "    print(grid_search.best_params_)\n",
    "    base_model = RandomForestRegressor(n_estimators = 10, random_state = 42)\n",
    "    base_model.fit(Xtrain, ytrain)\n",
    "    base_predictions = base_model.predict(Xtest)   \n",
    "    best_grid = grid_search.best_estimator_\n",
    "    best_pred = best_grid.predict(Xtest)\n",
    "    print('Base Model_R2 score:',r2_score(ytest,base_predictions))\n",
    "    print('Base Model_MAE:',mean_absolute_error(ytest,base_predictions))\n",
    "    print('Best Model_R2 score:',r2_score(ytest,best_pred))\n",
    "    print('Best Model_MAE:',mean_absolute_error(ytest,best_pred))\n",
    "\n",
    "    return best_pred   "
   ]
  },
  {
   "cell_type": "code",
   "execution_count": 66,
   "metadata": {},
   "outputs": [],
   "source": [
    "def randomForest_RandomSearchCV (Xtrain,Xtest,ytrain,ytest,cv = 3):\n",
    "    from sklearn.model_selection import RandomizedSearchCV\n",
    "    # Number of trees in random forest\n",
    "    n_estimators = [int(x) for x in np.linspace(start = 200, stop = 2000, num = 10)]\n",
    "    # Number of features to consider at every split\n",
    "    max_features = ['auto', 'sqrt']\n",
    "    # Maximum number of levels in tree\n",
    "    max_depth = [int(x) for x in np.linspace(10, 110, num = 11)]\n",
    "    max_depth.append(None)\n",
    "    # Minimum number of samples required to split a node\n",
    "    min_samples_split = [2, 5, 10]\n",
    "    # Minimum number of samples required at each leaf node\n",
    "    min_samples_leaf = [1, 2, 4]\n",
    "    # Method of selecting samples for training each tree\n",
    "    bootstrap = [True, False]\n",
    "    # Create the random grid\n",
    "    random_grid = {'n_estimators': n_estimators,\n",
    "                'max_features': max_features,\n",
    "                'max_depth': max_depth,\n",
    "                'min_samples_split': min_samples_split,\n",
    "                'min_samples_leaf': min_samples_leaf,\n",
    "                'bootstrap': bootstrap}\n",
    "    # Create a based model\n",
    "    rf = RandomForestRegressor()\n",
    "    # Random search of parameters, using 3 fold cross validation, \n",
    "    # search across 100 different combinations, and use all available cores\n",
    "    rf_random = RandomizedSearchCV(estimator = rf, param_distributions = random_grid, n_iter = 100, cv = 3, verbose=2, random_state=42, n_jobs = -1)\n",
    "    # Fit the grid search to the data\n",
    "    rf_random.fit(Xtrain, ytrain)\n",
    "    print(rf_random.best_params_)\n",
    "    base_model = RandomForestRegressor(n_estimators = 10, random_state = 42)\n",
    "    base_model.fit(Xtrain, ytrain)\n",
    "    base_predictions = base_model.predict(Xtest)   \n",
    "    best_random = rf_random.best_estimator_\n",
    "    best_pred = best_random.predict(review_scores_rating_Xtest)\n",
    "    print('Base Model_R2 score:',r2_score(ytest,base_predictions))\n",
    "    print('Base Model_MAE:',mean_absolute_error(ytest,base_predictions))\n",
    "    print('Best Model_R2 score:',r2_score(ytest,best_pred))\n",
    "    print('Best Model_MAE:',mean_absolute_error(ytest,best_pred))\n",
    "\n",
    "    return best_pred   "
   ]
  },
  {
   "cell_type": "code",
   "execution_count": 43,
   "metadata": {},
   "outputs": [
    {
     "name": "stdout",
     "output_type": "stream",
     "text": [
      "Fitting 3 folds for each of 864 candidates, totalling 2592 fits\n"
     ]
    },
    {
     "name": "stderr",
     "output_type": "stream",
     "text": [
      "c:\\Users\\sarathkumar\\anaconda3\\lib\\site-packages\\sklearn\\model_selection\\_search.py:910: DataConversionWarning: A column-vector y was passed when a 1d array was expected. Please change the shape of y to (n_samples,), for example using ravel().\n",
      "  self.best_estimator_.fit(X, y, **fit_params)\n",
      "c:\\Users\\sarathkumar\\anaconda3\\lib\\site-packages\\sklearn\\ensemble\\_forest.py:416: FutureWarning: `max_features='auto'` has been deprecated in 1.1 and will be removed in 1.3. To keep the past behaviour, explicitly set `max_features=1.0` or remove this parameter as it is also the default value for RandomForestRegressors and ExtraTreesRegressors.\n",
      "  warn(\n"
     ]
    },
    {
     "name": "stdout",
     "output_type": "stream",
     "text": [
      "{'bootstrap': True, 'max_depth': 90, 'max_features': 'auto', 'min_samples_leaf': 5, 'min_samples_split': 10, 'n_estimators': 100}\n"
     ]
    },
    {
     "name": "stderr",
     "output_type": "stream",
     "text": [
      "C:\\Users\\sarathkumar\\AppData\\local\\Temp\\ipykernel_17132\\1217910883.py:19: DataConversionWarning: A column-vector y was passed when a 1d array was expected. Please change the shape of y to (n_samples,), for example using ravel().\n",
      "  base_model.fit(Xtrain, ytrain)\n"
     ]
    },
    {
     "name": "stdout",
     "output_type": "stream",
     "text": [
      "Base Model_R2 score: 0.8774968387756906\n",
      "Base Model_MAE: 0.1395605554075231\n",
      "Best Model_R2 score: 0.8936611359501642\n",
      "Best Model_MAE: 0.13086181833350516\n",
      "R2 score: 0.8936611359501642\n",
      "MAE: 0.13086181833350516\n",
      "MSE: 0.06011886531471782\n",
      "RMSE: 0.2451914870355776\n"
     ]
    }
   ],
   "source": [
    "review_scores_rating_pred = randomForest_GridSearchCV(review_scores_rating_Xtrain, review_scores_rating_Xtest, review_scores_rating_ytrain, review_scores_rating_ytest,3)\n",
    "print('R2 score:',r2_score(review_scores_rating_ytest,review_scores_rating_pred))\n",
    "print('MAE:',mean_absolute_error(review_scores_rating_ytest,review_scores_rating_pred))\n",
    "print('MSE:',mean_squared_error(review_scores_rating_ytest,review_scores_rating_pred))\n",
    "print('RMSE:',mean_squared_error(review_scores_rating_ytest,review_scores_rating_pred,squared=False))"
   ]
  },
  {
   "cell_type": "code",
   "execution_count": 67,
   "metadata": {},
   "outputs": [
    {
     "name": "stdout",
     "output_type": "stream",
     "text": [
      "Fitting 3 folds for each of 864 candidates, totalling 2592 fits\n"
     ]
    },
    {
     "name": "stderr",
     "output_type": "stream",
     "text": [
      "c:\\Users\\sarathkumar\\anaconda3\\lib\\site-packages\\sklearn\\model_selection\\_search.py:910: DataConversionWarning: A column-vector y was passed when a 1d array was expected. Please change the shape of y to (n_samples,), for example using ravel().\n",
      "  self.best_estimator_.fit(X, y, **fit_params)\n"
     ]
    },
    {
     "name": "stdout",
     "output_type": "stream",
     "text": [
      "{'bootstrap': False, 'max_depth': 80, 'max_features': 'log2', 'min_samples_leaf': 3, 'min_samples_split': 10, 'n_estimators': 100}\n"
     ]
    },
    {
     "name": "stderr",
     "output_type": "stream",
     "text": [
      "C:\\Users\\sarathkumar\\AppData\\local\\Temp\\ipykernel_17132\\505462003.py:19: DataConversionWarning: A column-vector y was passed when a 1d array was expected. Please change the shape of y to (n_samples,), for example using ravel().\n",
      "  base_model.fit(Xtrain, ytrain)\n"
     ]
    },
    {
     "name": "stdout",
     "output_type": "stream",
     "text": [
      "Base Model_R2 score: 0.614797475724234\n",
      "Base Model_MAE: 0.1569231228353774\n",
      "Best Model_R2 score: 0.6756528471036317\n",
      "Best Model_MAE: 0.14510409003475078\n",
      "R2 score: 0.6756528471036317\n",
      "MAE: 0.14510409003475078\n",
      "MSE: 0.09528863853675995\n",
      "RMSE: 0.3086885785654532\n"
     ]
    }
   ],
   "source": [
    "review_scores_accuracy_pred = randomForest_GridSearchCV(review_scores_accuracy_Xtrain, review_scores_accuracy_Xtest, review_scores_accuracy_ytrain, review_scores_accuracy_ytest,3)\n",
    "print('R2 score:',r2_score(review_scores_accuracy_ytest,review_scores_accuracy_pred))\n",
    "print('MAE:',mean_absolute_error(review_scores_accuracy_ytest,review_scores_accuracy_pred))\n",
    "print('MSE:',mean_squared_error(review_scores_accuracy_ytest,review_scores_accuracy_pred))\n",
    "print('RMSE:',mean_squared_error(review_scores_accuracy_ytest,review_scores_accuracy_pred,squared=False))"
   ]
  },
  {
   "cell_type": "code",
   "execution_count": 68,
   "metadata": {},
   "outputs": [
    {
     "name": "stdout",
     "output_type": "stream",
     "text": [
      "Fitting 3 folds for each of 864 candidates, totalling 2592 fits\n"
     ]
    },
    {
     "name": "stderr",
     "output_type": "stream",
     "text": [
      "c:\\Users\\sarathkumar\\anaconda3\\lib\\site-packages\\sklearn\\model_selection\\_search.py:910: DataConversionWarning: A column-vector y was passed when a 1d array was expected. Please change the shape of y to (n_samples,), for example using ravel().\n",
      "  self.best_estimator_.fit(X, y, **fit_params)\n"
     ]
    },
    {
     "name": "stdout",
     "output_type": "stream",
     "text": [
      "{'bootstrap': True, 'max_depth': 80, 'max_features': 'sqrt', 'min_samples_leaf': 3, 'min_samples_split': 8, 'n_estimators': 100}\n"
     ]
    },
    {
     "name": "stderr",
     "output_type": "stream",
     "text": [
      "C:\\Users\\sarathkumar\\AppData\\local\\Temp\\ipykernel_17132\\505462003.py:19: DataConversionWarning: A column-vector y was passed when a 1d array was expected. Please change the shape of y to (n_samples,), for example using ravel().\n",
      "  base_model.fit(Xtrain, ytrain)\n"
     ]
    },
    {
     "name": "stdout",
     "output_type": "stream",
     "text": [
      "Base Model_R2 score: 0.7785258371108962\n",
      "Base Model_MAE: 0.20422318370373518\n",
      "Best Model_R2 score: 0.7718876405396954\n",
      "Best Model_MAE: 0.199416030623413\n",
      "R2 score: 0.7718876405396954\n",
      "MAE: 0.199416030623413\n",
      "MSE: 0.14901591518026866\n",
      "RMSE: 0.3860257960036721\n"
     ]
    }
   ],
   "source": [
    "review_scores_cleanliness_pred = randomForest_GridSearchCV(review_scores_cleanliness_Xtrain, review_scores_cleanliness_Xtest, review_scores_cleanliness_ytrain, review_scores_cleanliness_ytest,3)\n",
    "print('R2 score:',r2_score(review_scores_cleanliness_ytest,review_scores_cleanliness_pred))\n",
    "print('MAE:',mean_absolute_error(review_scores_cleanliness_ytest,review_scores_cleanliness_pred))\n",
    "print('MSE:',mean_squared_error(review_scores_cleanliness_ytest,review_scores_cleanliness_pred))\n",
    "print('RMSE:',mean_squared_error(review_scores_cleanliness_ytest,review_scores_cleanliness_pred,squared=False))"
   ]
  },
  {
   "cell_type": "code",
   "execution_count": 69,
   "metadata": {},
   "outputs": [
    {
     "name": "stdout",
     "output_type": "stream",
     "text": [
      "Fitting 3 folds for each of 864 candidates, totalling 2592 fits\n"
     ]
    },
    {
     "name": "stderr",
     "output_type": "stream",
     "text": [
      "c:\\Users\\sarathkumar\\anaconda3\\lib\\site-packages\\sklearn\\model_selection\\_search.py:910: DataConversionWarning: A column-vector y was passed when a 1d array was expected. Please change the shape of y to (n_samples,), for example using ravel().\n",
      "  self.best_estimator_.fit(X, y, **fit_params)\n"
     ]
    },
    {
     "name": "stdout",
     "output_type": "stream",
     "text": [
      "{'bootstrap': False, 'max_depth': 80, 'max_features': 'sqrt', 'min_samples_leaf': 3, 'min_samples_split': 12, 'n_estimators': 200}\n"
     ]
    },
    {
     "name": "stderr",
     "output_type": "stream",
     "text": [
      "C:\\Users\\sarathkumar\\AppData\\local\\Temp\\ipykernel_17132\\505462003.py:19: DataConversionWarning: A column-vector y was passed when a 1d array was expected. Please change the shape of y to (n_samples,), for example using ravel().\n",
      "  base_model.fit(Xtrain, ytrain)\n"
     ]
    },
    {
     "name": "stdout",
     "output_type": "stream",
     "text": [
      "Base Model_R2 score: 0.529209074859232\n",
      "Base Model_MAE: 0.14242139447382254\n",
      "Best Model_R2 score: 0.6019629642856027\n",
      "Best Model_MAE: 0.1333927298932113\n",
      "R2 score: 0.6019629642856027\n",
      "MAE: 0.1333927298932113\n",
      "MSE: 0.07781165723749077\n",
      "RMSE: 0.27894740944753504\n"
     ]
    }
   ],
   "source": [
    "review_scores_checkin_pred = randomForest_GridSearchCV(review_scores_checkin_Xtrain, review_scores_checkin_Xtest, review_scores_checkin_ytrain, review_scores_checkin_ytest,3)\n",
    "print('R2 score:',r2_score(review_scores_checkin_ytest,review_scores_checkin_pred))\n",
    "print('MAE:',mean_absolute_error(review_scores_checkin_ytest,review_scores_checkin_pred))\n",
    "print('MSE:',mean_squared_error(review_scores_checkin_ytest,review_scores_checkin_pred))\n",
    "print('RMSE:',mean_squared_error(review_scores_checkin_ytest,review_scores_checkin_pred,squared=False))"
   ]
  },
  {
   "cell_type": "code",
   "execution_count": 70,
   "metadata": {},
   "outputs": [
    {
     "name": "stdout",
     "output_type": "stream",
     "text": [
      "Fitting 3 folds for each of 864 candidates, totalling 2592 fits\n"
     ]
    },
    {
     "name": "stderr",
     "output_type": "stream",
     "text": [
      "c:\\Users\\sarathkumar\\anaconda3\\lib\\site-packages\\sklearn\\model_selection\\_search.py:910: DataConversionWarning: A column-vector y was passed when a 1d array was expected. Please change the shape of y to (n_samples,), for example using ravel().\n",
      "  self.best_estimator_.fit(X, y, **fit_params)\n"
     ]
    },
    {
     "name": "stdout",
     "output_type": "stream",
     "text": [
      "{'bootstrap': True, 'max_depth': 80, 'max_features': 'sqrt', 'min_samples_leaf': 4, 'min_samples_split': 10, 'n_estimators': 100}\n"
     ]
    },
    {
     "name": "stderr",
     "output_type": "stream",
     "text": [
      "C:\\Users\\sarathkumar\\AppData\\local\\Temp\\ipykernel_17132\\505462003.py:19: DataConversionWarning: A column-vector y was passed when a 1d array was expected. Please change the shape of y to (n_samples,), for example using ravel().\n",
      "  base_model.fit(Xtrain, ytrain)\n"
     ]
    },
    {
     "name": "stdout",
     "output_type": "stream",
     "text": [
      "Base Model_R2 score: 0.5957299223721756\n",
      "Base Model_MAE: 0.12701096795518138\n",
      "Best Model_R2 score: 0.6495892562272989\n",
      "Best Model_MAE: 0.12364784340743266\n",
      "R2 score: 0.6495892562272989\n",
      "MAE: 0.12364784340743266\n",
      "MSE: 0.06637753615564905\n",
      "RMSE: 0.25763838253577254\n"
     ]
    }
   ],
   "source": [
    "review_scores_communication_pred = randomForest_GridSearchCV(review_scores_communication_Xtrain, review_scores_communication_Xtest, review_scores_communication_ytrain, review_scores_communication_ytest,3)\n",
    "print('R2 score:',r2_score(review_scores_communication_ytest,review_scores_communication_pred))\n",
    "print('MAE:',mean_absolute_error(review_scores_communication_ytest,review_scores_communication_pred))\n",
    "print('MSE:',mean_squared_error(review_scores_communication_ytest,review_scores_communication_pred))\n",
    "print('RMSE:',mean_squared_error(review_scores_communication_ytest,review_scores_communication_pred,squared=False))"
   ]
  },
  {
   "cell_type": "code",
   "execution_count": 80,
   "metadata": {},
   "outputs": [
    {
     "name": "stdout",
     "output_type": "stream",
     "text": [
      "Fitting 3 folds for each of 864 candidates, totalling 2592 fits\n"
     ]
    },
    {
     "name": "stderr",
     "output_type": "stream",
     "text": [
      "c:\\Users\\sarathkumar\\anaconda3\\lib\\site-packages\\sklearn\\model_selection\\_search.py:910: DataConversionWarning: A column-vector y was passed when a 1d array was expected. Please change the shape of y to (n_samples,), for example using ravel().\n",
      "  self.best_estimator_.fit(X, y, **fit_params)\n"
     ]
    },
    {
     "name": "stdout",
     "output_type": "stream",
     "text": [
      "{'bootstrap': True, 'max_depth': 100, 'max_features': 'sqrt', 'min_samples_leaf': 5, 'min_samples_split': 12, 'n_estimators': 100}\n"
     ]
    },
    {
     "name": "stderr",
     "output_type": "stream",
     "text": [
      "C:\\Users\\sarathkumar\\AppData\\local\\Temp\\ipykernel_17132\\505462003.py:19: DataConversionWarning: A column-vector y was passed when a 1d array was expected. Please change the shape of y to (n_samples,), for example using ravel().\n",
      "  base_model.fit(Xtrain, ytrain)\n"
     ]
    },
    {
     "name": "stdout",
     "output_type": "stream",
     "text": [
      "Base Model_R2 score: 0.3379642644268468\n",
      "Base Model_MAE: 0.18872704261654352\n",
      "Best Model_R2 score: 0.4629119892886431\n",
      "Best Model_MAE: 0.1761791896787902\n",
      "R2 score: 0.4629119892886431\n",
      "MAE: 0.1761791896787902\n",
      "MSE: 0.08625335107400856\n",
      "RMSE: 0.2936892083036225\n"
     ]
    }
   ],
   "source": [
    "review_scores_location_pred = randomForest_GridSearchCV(review_scores_location_Xtrain, review_scores_location_Xtest, review_scores_location_ytrain, review_scores_location_ytest,3)\n",
    "print('R2 score:',r2_score(review_scores_location_ytest,review_scores_location_pred))\n",
    "print('MAE:',mean_absolute_error(review_scores_location_ytest,review_scores_location_pred))\n",
    "print('MSE:',mean_squared_error(review_scores_location_ytest,review_scores_location_pred))\n",
    "print('RMSE:',mean_squared_error(review_scores_location_ytest,review_scores_location_pred,squared=False))"
   ]
  },
  {
   "cell_type": "code",
   "execution_count": 76,
   "metadata": {},
   "outputs": [
    {
     "name": "stdout",
     "output_type": "stream",
     "text": [
      "Fitting 3 folds for each of 864 candidates, totalling 2592 fits\n"
     ]
    },
    {
     "name": "stderr",
     "output_type": "stream",
     "text": [
      "c:\\Users\\sarathkumar\\anaconda3\\lib\\site-packages\\sklearn\\model_selection\\_search.py:910: DataConversionWarning: A column-vector y was passed when a 1d array was expected. Please change the shape of y to (n_samples,), for example using ravel().\n",
      "  self.best_estimator_.fit(X, y, **fit_params)\n"
     ]
    },
    {
     "name": "stdout",
     "output_type": "stream",
     "text": [
      "{'bootstrap': False, 'max_depth': 80, 'max_features': 'log2', 'min_samples_leaf': 3, 'min_samples_split': 12, 'n_estimators': 100}\n"
     ]
    },
    {
     "name": "stderr",
     "output_type": "stream",
     "text": [
      "C:\\Users\\sarathkumar\\AppData\\local\\Temp\\ipykernel_17132\\505462003.py:19: DataConversionWarning: A column-vector y was passed when a 1d array was expected. Please change the shape of y to (n_samples,), for example using ravel().\n",
      "  base_model.fit(Xtrain, ytrain)\n"
     ]
    },
    {
     "name": "stdout",
     "output_type": "stream",
     "text": [
      "Base Model_R2 score: 0.7221885098651211\n",
      "Base Model_MAE: 0.19232584239984976\n",
      "Best Model_R2 score: 0.7522179901251045\n",
      "Best Model_MAE: 0.18982850243218322\n",
      "R2 score: 0.7522179901251045\n",
      "MAE: 0.18982850243218322\n",
      "MSE: 0.10619764933958258\n",
      "RMSE: 0.32587980811885625\n"
     ]
    }
   ],
   "source": [
    "review_scores_value_pred = randomForest_GridSearchCV(review_scores_value_Xtrain, review_scores_value_Xtest, review_scores_value_ytrain, review_scores_value_ytest,3)\n",
    "print('R2 score:',r2_score(review_scores_value_ytest,review_scores_value_pred))\n",
    "print('MAE:',mean_absolute_error(review_scores_value_ytest,review_scores_value_pred))\n",
    "print('MSE:',mean_squared_error(review_scores_value_ytest,review_scores_value_pred))\n",
    "print('RMSE:',mean_squared_error(review_scores_value_ytest,review_scores_value_pred,squared=False))"
   ]
  },
  {
   "attachments": {},
   "cell_type": "markdown",
   "metadata": {},
   "source": [
    "ref\n",
    "1) <<https://towardsdatascience.com/hyperparameter-tuning-the-random-forest-in-python-using-scikit-learn-28d2aa77dd74>>"
   ]
  }
 ],
 "metadata": {
  "kernelspec": {
   "display_name": "base",
   "language": "python",
   "name": "python3"
  },
  "language_info": {
   "codemirror_mode": {
    "name": "ipython",
    "version": 3
   },
   "file_extension": ".py",
   "mimetype": "text/x-python",
   "name": "python",
   "nbconvert_exporter": "python",
   "pygments_lexer": "ipython3",
   "version": "3.9.13"
  },
  "orig_nbformat": 4,
  "vscode": {
   "interpreter": {
    "hash": "3ae812cea1838cfe625ef2ccd041db9e8a15742a5c13070da45ad927857ccd83"
   }
  }
 },
 "nbformat": 4,
 "nbformat_minor": 2
}
