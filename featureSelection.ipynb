{
 "cells": [
  {
   "cell_type": "code",
   "execution_count": 3,
   "metadata": {},
   "outputs": [],
   "source": [
    "import os\n",
    "import numpy as np\n",
    "import pandas as pd\n",
    "import matplotlib.pyplot as plt\n",
    "from sklearn.feature_selection import SelectKBest\n",
    "from sklearn.feature_selection import f_regression\n",
    "from sklearn.feature_selection import RFECV\n",
    "from sklearn.ensemble import RandomForestRegressor\n",
    "from sklearn.preprocessing import StandardScaler\n",
    "from sklearn.feature_selection import SelectFromModel\n",
    "from sklearn.pipeline import Pipeline\n",
    "from sklearn.svm import LinearSVC\n",
    "from sklearn.ensemble import RandomForestClassifier"
   ]
  },
  {
   "cell_type": "code",
   "execution_count": 4,
   "metadata": {},
   "outputs": [],
   "source": [
    "final_df = pd.read_csv('download\\\\FinalDataset.csv')"
   ]
  },
  {
   "cell_type": "code",
   "execution_count": 5,
   "metadata": {},
   "outputs": [
    {
     "data": {
      "text/plain": [
       "Index(['id', 'host_response_rate', 'host_is_superhost', 'host_listings_count',\n",
       "       'host_total_listings_count', 'host_has_profile_pic',\n",
       "       'host_identity_verified', 'room_type', 'accommodates', 'bedrooms',\n",
       "       'beds', 'price', 'minimum_nights', 'maximum_nights', 'has_availability',\n",
       "       'availability_30', 'availability_60', 'availability_90',\n",
       "       'availability_365', 'number_of_reviews', 'number_of_reviews_ltm',\n",
       "       'number_of_reviews_l30d', 'instant_bookable',\n",
       "       'calculated_host_listings_count',\n",
       "       'calculated_host_listings_count_entire_homes',\n",
       "       'calculated_host_listings_count_private_rooms',\n",
       "       'calculated_host_listings_count_shared_rooms', 'reviews_per_month',\n",
       "       'location_cluster', 'bathroom_map', 'amenities_count',\n",
       "       'host_verifications_count', 'sentiment', 'review_scores_rating',\n",
       "       'review_scores_accuracy', 'review_scores_cleanliness',\n",
       "       'review_scores_checkin', 'review_scores_communication',\n",
       "       'review_scores_location', 'review_scores_value'],\n",
       "      dtype='object')"
      ]
     },
     "execution_count": 5,
     "metadata": {},
     "output_type": "execute_result"
    }
   ],
   "source": [
    "final_df.columns"
   ]
  },
  {
   "cell_type": "code",
   "execution_count": 6,
   "metadata": {},
   "outputs": [],
   "source": [
    "initial_X = final_df[['host_response_rate', 'host_is_superhost', 'host_listings_count',\n",
    "       'host_total_listings_count', 'host_has_profile_pic',\n",
    "       'host_identity_verified', 'room_type', 'accommodates', 'bedrooms',\n",
    "       'beds', 'price', 'minimum_nights', 'maximum_nights', 'has_availability',\n",
    "       'availability_30', 'availability_60', 'availability_90',\n",
    "       'availability_365', 'number_of_reviews', 'number_of_reviews_ltm',\n",
    "       'number_of_reviews_l30d', 'instant_bookable',\n",
    "       'calculated_host_listings_count',\n",
    "       'calculated_host_listings_count_entire_homes',\n",
    "       'calculated_host_listings_count_private_rooms',\n",
    "       'calculated_host_listings_count_shared_rooms', 'reviews_per_month',\n",
    "       'location_cluster', 'bathroom_map', 'amenities_count',\n",
    "       'host_verifications_count', 'sentiment']]"
   ]
  },
  {
   "cell_type": "code",
   "execution_count": 7,
   "metadata": {},
   "outputs": [
    {
     "data": {
      "text/plain": [
       "(7566, 32)"
      ]
     },
     "execution_count": 7,
     "metadata": {},
     "output_type": "execute_result"
    }
   ],
   "source": [
    "initial_X.shape"
   ]
  },
  {
   "cell_type": "code",
   "execution_count": 8,
   "metadata": {},
   "outputs": [],
   "source": [
    "review_scores_rating_y = pd.DataFrame(final_df['review_scores_rating'])\n",
    "review_scores_accuracy_y = pd.DataFrame(final_df['review_scores_accuracy'])\n",
    "review_scores_cleanliness_y = pd.DataFrame(final_df['review_scores_cleanliness'])\n",
    "review_scores_checkin_y = pd.DataFrame(final_df['review_scores_checkin'])\n",
    "review_scores_communication_y = pd.DataFrame(final_df['review_scores_communication'])\n",
    "review_scores_location_y = pd.DataFrame(final_df['review_scores_location'])\n",
    "review_scores_value_y = pd.DataFrame(final_df['review_scores_value'])"
   ]
  },
  {
   "cell_type": "code",
   "execution_count": 7,
   "metadata": {},
   "outputs": [],
   "source": [
    "# scaler = StandardScaler()\n",
    "# #all X values were normalised\n",
    "# X_scaled=pd.DataFrame(scaler.fit_transform(initial_X),index=initial_X.index, columns=initial_X.columns)"
   ]
  },
  {
   "cell_type": "code",
   "execution_count": 8,
   "metadata": {},
   "outputs": [],
   "source": [
    "# #all reviews were normalised\n",
    "# review_scores_rating_scaled=pd.DataFrame(scaler.fit_transform(review_scores_rating_y),index=review_scores_rating_y.index, columns=review_scores_rating_y.columns)\n",
    "# review_scores_accuracy_scaled=pd.DataFrame(scaler.fit_transform(review_scores_accuracy_y),index=review_scores_accuracy_y.index, columns=review_scores_accuracy_y.columns) \n",
    "# review_scores_cleanliness_scaled=pd.DataFrame(scaler.fit_transform(review_scores_cleanliness_y),index=review_scores_cleanliness_y.index, columns=review_scores_cleanliness_y.columns) \n",
    "# review_scores_checkin_scaled=pd.DataFrame(scaler.fit_transform(review_scores_checkin_y),index=review_scores_checkin_y.index, columns=review_scores_checkin_y.columns) \n",
    "# review_scores_communication_scaled=pd.DataFrame(scaler.fit_transform(review_scores_communication_y),index=review_scores_communication_y.index, columns=review_scores_communication_y.columns) \n",
    "# review_scores_location_scaled=pd.DataFrame(scaler.fit_transform(review_scores_location_y),index=review_scores_location_y.index, columns=review_scores_location_y.columns) \n",
    "# review_scores_value_scaled=pd.DataFrame(scaler.fit_transform(review_scores_value_y),index=review_scores_value_y.index, columns=review_scores_value_y.columns) "
   ]
  },
  {
   "cell_type": "code",
   "execution_count": 9,
   "metadata": {},
   "outputs": [],
   "source": [
    "def feature_selection_SelectKBest(X, y, N, n):\n",
    "    bestfeatures = SelectKBest(score_func=f_regression, k=N)\n",
    "    fit = bestfeatures.fit(X,np.ravel(y))\n",
    "    scores = pd.DataFrame(fit.scores_)\n",
    "    column = pd.DataFrame(X.columns)\n",
    "    feature_scores = pd.concat([column,scores],axis=1)\n",
    "    feature_scores.columns = ['Columns','Score']\n",
    "    selected_features = feature_scores.nlargest(n,'Score')\n",
    "    print('----------------')\n",
    "    print(selected_features)\n",
    "    print('----------------')\n",
    "    return X[[i for i in X.columns if i in selected_features['Columns'].array]]\n",
    "    "
   ]
  },
  {
   "cell_type": "code",
   "execution_count": 10,
   "metadata": {},
   "outputs": [],
   "source": [
    "# review_scores_rating_training_dataset = pd.concat([feature_selection_SelectKBest(initial_X, review_scores_rating, 5, 5), review_scores_rating])\n",
    "# review_scores_accuracy_training_dataset = pd.concat([feature_selection_SelectKBest(initial_X, review_scores_accuracy, 5, 5), review_scores_accuracy])\n",
    "# review_scores_cleanliness_training_dataset = pd.concat([feature_selection_SelectKBest(initial_X, review_scores_cleanliness, 5, 5), review_scores_cleanliness])\n",
    "# review_scores_checkin_training_dataset = pd.concat([feature_selection_SelectKBest(initial_X, review_scores_checkin, 5, 5), review_scores_checkin])\n",
    "# review_scores_communication_training_dataset = pd.concat([feature_selection_SelectKBest(initial_X, review_scores_communication, 5, 5), review_scores_communication])\n",
    "# review_scores_location_training_dataset = pd.concat([feature_selection_SelectKBest(initial_X, review_scores_location, 5, 5), review_scores_location])\n",
    "# review_scores_value_training_dataset = pd.concat([feature_selection_SelectKBest(initial_X, review_scores_value, 5, 5), review_scores_value])"
   ]
  },
  {
   "cell_type": "code",
   "execution_count": 18,
   "metadata": {},
   "outputs": [
    {
     "name": "stdout",
     "output_type": "stream",
     "text": [
      "----------------\n",
      "               Columns        Score\n",
      "31           sentiment  6773.682638\n",
      "0   host_response_rate  6431.843258\n",
      "29     amenities_count   263.548784\n",
      "1    host_is_superhost   149.157935\n",
      "26   reviews_per_month   120.950215\n",
      "----------------\n",
      "----------------\n",
      "               Columns        Score\n",
      "31           sentiment  5385.757684\n",
      "0   host_response_rate  3450.414756\n",
      "29     amenities_count   185.463246\n",
      "1    host_is_superhost   119.675834\n",
      "26   reviews_per_month    94.629085\n",
      "----------------\n",
      "----------------\n",
      "               Columns        Score\n",
      "0   host_response_rate  5711.801576\n",
      "31           sentiment  4928.552034\n",
      "29     amenities_count   258.664707\n",
      "1    host_is_superhost   160.091961\n",
      "26   reviews_per_month   157.658318\n",
      "----------------\n",
      "----------------\n",
      "               Columns        Score\n",
      "31           sentiment  4541.731696\n",
      "0   host_response_rate  2455.297309\n",
      "29     amenities_count   191.621710\n",
      "----------------\n",
      "----------------\n",
      "                Columns        Score\n",
      "31            sentiment  5040.744981\n",
      "0    host_response_rate  3306.701020\n",
      "29      amenities_count   185.167246\n",
      "1     host_is_superhost   111.153501\n",
      "2   host_listings_count    97.802658\n",
      "----------------\n",
      "----------------\n",
      "               Columns        Score\n",
      "31           sentiment  3309.771544\n",
      "0   host_response_rate  1929.527194\n",
      "29     amenities_count   173.207345\n",
      "1    host_is_superhost   108.893367\n",
      "26   reviews_per_month    75.971898\n",
      "----------------\n",
      "----------------\n",
      "               Columns        Score\n",
      "31           sentiment  5778.983397\n",
      "0   host_response_rate  3954.977579\n",
      "29     amenities_count   207.779472\n",
      "1    host_is_superhost   138.149830\n",
      "18   number_of_reviews    99.444126\n",
      "----------------\n"
     ]
    }
   ],
   "source": [
    "# feature_selection_SelectKBest(X, y, N(k value), n(gets n features))\n",
    "review_scores_rating_X = feature_selection_SelectKBest(initial_X, review_scores_rating_y, 5, 5)\n",
    "review_scores_accuracy_X= feature_selection_SelectKBest(initial_X, review_scores_accuracy_y, 5, 5)\n",
    "review_scores_cleanliness_X= feature_selection_SelectKBest(initial_X, review_scores_cleanliness_y, 5, 5)\n",
    "review_scores_checkin_X= feature_selection_SelectKBest(initial_X, review_scores_checkin_y, 5, 3)\n",
    "review_scores_communication_X= feature_selection_SelectKBest(initial_X, review_scores_communication_y, 5, 5)\n",
    "review_scores_location_X= feature_selection_SelectKBest(initial_X, review_scores_location_y, 5, 5)\n",
    "review_scores_value_X= feature_selection_SelectKBest(initial_X, review_scores_value_y, 5, 5)"
   ]
  },
  {
   "cell_type": "code",
   "execution_count": 12,
   "metadata": {},
   "outputs": [
    {
     "name": "stdout",
     "output_type": "stream",
     "text": [
      "----------------\n",
      "               Columns        Score\n",
      "31           sentiment  6773.682638\n",
      "0   host_response_rate  6431.843258\n",
      "29     amenities_count   263.548784\n",
      "1    host_is_superhost   149.157935\n",
      "26   reviews_per_month   120.950215\n",
      "----------------\n",
      "----------------\n",
      "               Columns        Score\n",
      "31           sentiment  5385.757684\n",
      "0   host_response_rate  3450.414756\n",
      "29     amenities_count   185.463246\n",
      "1    host_is_superhost   119.675834\n",
      "26   reviews_per_month    94.629085\n",
      "----------------\n",
      "----------------\n",
      "               Columns        Score\n",
      "0   host_response_rate  5711.801576\n",
      "31           sentiment  4928.552034\n",
      "29     amenities_count   258.664707\n",
      "1    host_is_superhost   160.091961\n",
      "26   reviews_per_month   157.658318\n",
      "----------------\n",
      "----------------\n",
      "               Columns        Score\n",
      "31           sentiment  4541.731696\n",
      "0   host_response_rate  2455.297309\n",
      "29     amenities_count   191.621710\n",
      "1    host_is_superhost   121.687747\n",
      "18   number_of_reviews    71.243979\n",
      "----------------\n",
      "----------------\n",
      "                Columns        Score\n",
      "31            sentiment  5040.744981\n",
      "0    host_response_rate  3306.701020\n",
      "29      amenities_count   185.167246\n",
      "1     host_is_superhost   111.153501\n",
      "2   host_listings_count    97.802658\n",
      "----------------\n",
      "----------------\n",
      "               Columns        Score\n",
      "31           sentiment  3309.771544\n",
      "0   host_response_rate  1929.527194\n",
      "29     amenities_count   173.207345\n",
      "1    host_is_superhost   108.893367\n",
      "26   reviews_per_month    75.971898\n",
      "----------------\n",
      "----------------\n",
      "               Columns        Score\n",
      "31           sentiment  5778.983397\n",
      "0   host_response_rate  3954.977579\n",
      "29     amenities_count   207.779472\n",
      "1    host_is_superhost   138.149830\n",
      "18   number_of_reviews    99.444126\n",
      "----------------\n"
     ]
    }
   ],
   "source": [
    "review_scores_rating_M2X = feature_selection_SelectKBest(initial_X, review_scores_rating_y, 5, 5)\n",
    "review_scores_accuracy_M2X= feature_selection_SelectKBest(initial_X, review_scores_accuracy_y, 5, 5)\n",
    "review_scores_cleanliness_M2X= feature_selection_SelectKBest(initial_X, review_scores_cleanliness_y, 5, 5)\n",
    "review_scores_checkin_M2X= feature_selection_SelectKBest(initial_X, review_scores_checkin_y, 5, 5)\n",
    "review_scores_communication_M2X= feature_selection_SelectKBest(initial_X, review_scores_communication_y, 5, 5)\n",
    "review_scores_location_M2X= feature_selection_SelectKBest(initial_X, review_scores_location_y, 5, 5)\n",
    "review_scores_value_M2X= feature_selection_SelectKBest(initial_X, review_scores_value_y, 5, 5)"
   ]
  },
  {
   "cell_type": "code",
   "execution_count": 12,
   "metadata": {},
   "outputs": [],
   "source": [
    "review_scores = [review_scores_rating_X, review_scores_accuracy_X, review_scores_cleanliness_X, \n",
    "                review_scores_checkin_X, review_scores_communication_X, review_scores_location_X, review_scores_value_X]"
   ]
  },
  {
   "cell_type": "code",
   "execution_count": null,
   "metadata": {},
   "outputs": [],
   "source": []
  },
  {
   "cell_type": "code",
   "execution_count": null,
   "metadata": {},
   "outputs": [],
   "source": []
  }
 ],
 "metadata": {
  "kernelspec": {
   "display_name": "base",
   "language": "python",
   "name": "python3"
  },
  "language_info": {
   "codemirror_mode": {
    "name": "ipython",
    "version": 3
   },
   "file_extension": ".py",
   "mimetype": "text/x-python",
   "name": "python",
   "nbconvert_exporter": "python",
   "pygments_lexer": "ipython3",
   "version": "3.9.13"
  },
  "orig_nbformat": 4,
  "vscode": {
   "interpreter": {
    "hash": "3ae812cea1838cfe625ef2ccd041db9e8a15742a5c13070da45ad927857ccd83"
   }
  }
 },
 "nbformat": 4,
 "nbformat_minor": 2
}
